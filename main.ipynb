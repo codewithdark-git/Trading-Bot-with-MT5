{
 "cells": [
  {
   "cell_type": "code",
   "execution_count": 11,
   "metadata": {},
   "outputs": [],
   "source": [
    "# pip install MetaTrader5"
   ]
  },
  {
   "cell_type": "code",
   "execution_count": 12,
   "metadata": {},
   "outputs": [],
   "source": [
    "import MetaTrader5 as mt5\n",
    "import pandas as pd\n",
    "from datetime import datetime\n",
    "import time\n",
    "import logging\n"
   ]
  },
  {
   "cell_type": "code",
   "execution_count": 13,
   "metadata": {},
   "outputs": [],
   "source": [
    "# Set up logging\n",
    "logging.basicConfig(filename='trading_bot.log', level=logging.INFO,\n",
    "                    format='%(asctime)s:%(levelname)s:%(message)s')\n",
    "\n",
    "# Connect to MetaTrader 5\n",
    "if not mt5.initialize():\n",
    "    logging.error(\"initialize() failed\")\n",
    "    mt5.shutdown()"
   ]
  },
  {
   "cell_type": "code",
   "execution_count": 14,
   "metadata": {},
   "outputs": [
    {
     "name": "stdout",
     "output_type": "stream",
     "text": [
      "Connected to account #156090030\n"
     ]
    }
   ],
   "source": [
    "\n",
    "# Login to your account\n",
    "account_number = 156090030\n",
    "password = \"codewithdark_E0\"\n",
    "server = \"Exness-MT5Trial\"\n",
    "\n",
    "authorized = mt5.login(account_number, password, server)\n",
    "if not authorized:\n",
    "    print(\"Failed to connect at account #{}, error code: {}\".format(account_number, mt5.last_error()))\n",
    "else:\n",
    "    print(\"Connected to account #{}\".format(account_number))"
   ]
  },
  {
   "cell_type": "code",
   "execution_count": 15,
   "metadata": {},
   "outputs": [],
   "source": [
    "symbols = [\"EURUSDm\", \"BTCUSDm\", \"XAUUSDm\"]\n",
    "lot_size = 0.1\n",
    "max_open_trades_per_symbol = 3\n",
    "pip_threshold = 10  # Pip threshold for closing trades\n",
    "take_profit_pips = 20  # Example take profit pips"
   ]
  },
  {
   "cell_type": "code",
   "execution_count": 16,
   "metadata": {},
   "outputs": [],
   "source": [
    "def get_data(symbol, timeframe, num_bars):\n",
    "    rates = mt5.copy_rates_from_pos(symbol, timeframe, 0, num_bars)\n",
    "    df = pd.DataFrame(rates)\n",
    "    df['time'] = pd.to_datetime(df['time'], unit='s')\n",
    "    return df"
   ]
  },
  {
   "cell_type": "code",
   "execution_count": 17,
   "metadata": {},
   "outputs": [],
   "source": [
    "def calculate_pips_to_price(pips):\n",
    "    \"\"\"Converts pips to price\"\"\"\n",
    "    return pips * 0.0001  # Assuming a standard Forex pair, adjust as needed"
   ]
  },
  {
   "cell_type": "code",
   "execution_count": 18,
   "metadata": {},
   "outputs": [],
   "source": [
    "def place_trade(symbol, action, lot_size):\n",
    "    price = mt5.symbol_info_tick(symbol).ask if action == \"buy\" else mt5.symbol_info_tick(symbol).bid\n",
    "    order_type = mt5.ORDER_TYPE_BUY if action == \"buy\" else mt5.ORDER_TYPE_SELL\n",
    "    request = {\n",
    "        \"action\": mt5.TRADE_ACTION_DEAL,\n",
    "        \"symbol\": symbol,\n",
    "        \"volume\": lot_size,\n",
    "        \"type\": order_type,\n",
    "        \"price\": price,\n",
    "        \"deviation\": 10,\n",
    "        \"magic\": 234000,\n",
    "        \"comment\": \"Python script order\",\n",
    "        \"type_time\": mt5.ORDER_TIME_GTC,\n",
    "        \"type_filling\": mt5.ORDER_FILLING_IOC\n",
    "    }\n",
    "    result = mt5.order_send(request)\n",
    "    if result.retcode != mt5.TRADE_RETCODE_DONE:\n",
    "        logging.error(f\"Order send failed for {symbol}, retcode={result.retcode}, comment={result.comment}\")\n",
    "    else:\n",
    "        logging.info(f\"Order sent successfully for {symbol}\")\n"
   ]
  },
  {
   "cell_type": "code",
   "execution_count": 19,
   "metadata": {},
   "outputs": [],
   "source": [
    "def close_trade(position):\n",
    "    order_type = mt5.ORDER_TYPE_SELL if position.type == mt5.ORDER_TYPE_BUY else mt5.ORDER_TYPE_BUY\n",
    "    price = mt5.symbol_info_tick(position.symbol).bid if order_type == mt5.ORDER_TYPE_BUY else mt5.symbol_info_tick(position.symbol).ask\n",
    "    request = {\n",
    "        \"action\": mt5.TRADE_ACTION_DEAL,\n",
    "        \"symbol\": position.symbol,\n",
    "        \"volume\": position.volume,\n",
    "        \"type\": order_type,\n",
    "        \"position\": position.ticket,\n",
    "        \"price\": price,\n",
    "        \"deviation\": 10,\n",
    "        \"magic\": 234000,\n",
    "        \"comment\": \"Close position\",\n",
    "        \"type_time\": mt5.ORDER_TIME_GTC,\n",
    "        \"type_filling\": mt5.ORDER_FILLING_IOC\n",
    "    }\n",
    "    result = mt5.order_send(request)\n",
    "    if result.retcode != mt5.TRADE_RETCODE_DONE:\n",
    "        logging.error(f\"Close position failed for {position.symbol}, retcode={result.retcode}\")\n",
    "    else:\n",
    "        logging.info(f\"Position closed successfully for {position.symbol}\")"
   ]
  },
  {
   "cell_type": "code",
   "execution_count": null,
   "metadata": {},
   "outputs": [],
   "source": [
    "def get_open_positions_count(symbol):\n",
    "    positions = mt5.positions_get(symbol=symbol)\n",
    "    if positions is None:\n",
    "        return 0\n",
    "    return len(positions)"
   ]
  },
  {
   "cell_type": "code",
   "execution_count": 20,
   "metadata": {},
   "outputs": [],
   "source": [
    "while True:\n",
    "        for symbol in symbols:\n",
    "            try:\n",
    "                # Fetch the last 100 candles\n",
    "                df = get_data(symbol, mt5.TIMEFRAME_D1, 100)\n",
    "                if df is None:\n",
    "                    logging.error(\"Rates fetch returned None\")\n",
    "                    raise ValueError(\"Rates fetch returned None\")\n",
    "                \n",
    "                if len(df) < 2:\n",
    "                    logging.error(f\"Insufficient rates data for {symbol}.\")\n",
    "                    raise ValueError(\"Insufficient rates data length\")\n",
    "\n",
    "                latest_candle = df.iloc[-2]  # Previous candle\n",
    "                current_candle = df.iloc[-1]  # Current candle\n",
    "\n",
    "                current_price = mt5.symbol_info_tick(symbol).last\n",
    "                action = None\n",
    "                \n",
    "\n",
    "                if current_price > current_candle['open']:\n",
    "                    action = 'buy'\n",
    "                    # take_profit = current_price + calculate_pips_to_price(take_profit_pips)\n",
    "                elif current_price < current_candle['open']:\n",
    "                    action = 'sell'\n",
    "                    # take_profit = current_price - calculate_pips_to_price(take_profit_pips)\n",
    "                \n",
    "                open_positions_count = get_open_positions_count(symbol)\n",
    "                logging.info(f\"Number of open positions for {symbol}: {open_positions_count}\")\n",
    "\n",
    "                if open_positions_count < max_open_trades_per_symbol:\n",
    "\n",
    "                    if action:\n",
    "                        logging.debug(f\"Placing trade: {action}\")\n",
    "                        place_trade(symbol, action, lot_size=lot_size)\n",
    "                    else:\n",
    "                        logging.debug(\"No trade action taken\")\n",
    "\n",
    "                # Close trades based on conditions\n",
    "                open_positions = mt5.positions_get(symbol=symbol)\n",
    "                for position in open_positions:\n",
    "                    # Example condition: Close if profit > $10\n",
    "                    if position.profit >= 10:\n",
    "                        logging.debug(f\"Closing trade: {position}\")\n",
    "                        close_trade(position)\n",
    "            \n",
    "            except Exception as e:\n",
    "                logging.error(f\"Exception while processing {symbol}: {str(e)}\")\n",
    "\n",
    "        time.sleep(60)  # Wait for 1 minute\n",
    "    \n",
    "mt5.shutdown()"
   ]
  }
 ],
 "metadata": {
  "kernelspec": {
   "display_name": "Python 3",
   "language": "python",
   "name": "python3"
  },
  "language_info": {
   "codemirror_mode": {
    "name": "ipython",
    "version": 3
   },
   "file_extension": ".py",
   "mimetype": "text/x-python",
   "name": "python",
   "nbconvert_exporter": "python",
   "pygments_lexer": "ipython3",
   "version": "3.10.11"
  }
 },
 "nbformat": 4,
 "nbformat_minor": 2
}
